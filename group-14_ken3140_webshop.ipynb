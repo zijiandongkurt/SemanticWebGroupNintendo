{
 "cells": [
  {
   "cell_type": "markdown",
   "metadata": {},
   "source": [
    "# Assignment 2\n",
    "Group 14\tNintendo shop - https://store.nintendo.nl/nl  \n",
    "Zijian Dong -i6226172\tAnqi Fan -i6272224\tQi Cui -i6288444\tTianyu Wei -i6231911\tZhefan Cheng -i6267501\n",
    "\n",
    "## Graph generating:"
   ]
  },
  {
   "cell_type": "code",
   "execution_count": 1,
   "metadata": {},
   "outputs": [],
   "source": [
    "from rdflib import URIRef, BNode, Literal, Namespace\n",
    "from rdflib.namespace import RDF, SDO, RDFS, OWL\n",
    "from rdflib import Graph\n"
   ]
  },
  {
   "cell_type": "code",
   "execution_count": 2,
   "metadata": {},
   "outputs": [],
   "source": [
    "# Make a graph\n",
    "g = Graph()\n",
    "NS = Namespace('https://store.nintendo.nl/nl/')\n",
    "#--------------Categories------------------------------------\n",
    "\n",
    "console = NS['consoles']\n",
    "games = NS['games']\n",
    "merchandise = NS['merchandise'] #周边merchandise\n",
    "franchise = NS['franchises'] #独家ip 和其它的会重复Exclusive IP and others will be duplicated\n",
    "new_product = NS['new']\n",
    "\n",
    "#--------Sub-Categories--------------------------------------\n",
    "#--------Sub Categories for consoles-------------------------\n",
    "switch = NS['nintendo-switch-consoles'] #是console的product\n",
    "switch_bundle = NS['nintendo-switch-bundles'] #是console的product\n",
    "accessory = NS['accessories'] #是switch的配件\n",
    "#-------Sub Categories for merchandise-----------------\n",
    "apparel = NS['apparel']\n",
    "home_and_gifts = NS['home-and-gifts']\n"
   ]
  },
  {
   "cell_type": "code",
   "execution_count": 3,
   "metadata": {},
   "outputs": [
    {
     "data": {
      "text/plain": [
       "<Graph identifier=Nb21a7032daa74a2e9a5886d03ac4a8c3 (<class 'rdflib.graph.Graph'>)>"
      ]
     },
     "execution_count": 3,
     "metadata": {},
     "output_type": "execute_result"
    }
   ],
   "source": [
    "Category = NS['Category']\n",
    "Product = NS['Product']\n",
    "Brand = NS['Brand']\n",
    "\n",
    "g.add((Category, RDF.type, OWL.Class))\n",
    "g.add((Category, RDFS.subClassOf, SDO.ProductGroup))\n",
    "\n",
    "g.add((Product, RDF.type, OWL.Class))\n",
    "g.add((Product, RDFS.subClassOf, SDO.Product))\n",
    "\n",
    "g.add((Brand, RDF.type, OWL.Class))\n",
    "g.add((Brand, RDFS.subClassOf, SDO.Brand))\n",
    "g.add((Brand, SDO.name, Literal(\"Nintendo\"))) # We only have a single brand in our case"
   ]
  },
  {
   "cell_type": "code",
   "execution_count": 4,
   "metadata": {},
   "outputs": [
    {
     "data": {
      "text/plain": [
       "<Graph identifier=Nb21a7032daa74a2e9a5886d03ac4a8c3 (<class 'rdflib.graph.Graph'>)>"
      ]
     },
     "execution_count": 4,
     "metadata": {},
     "output_type": "execute_result"
    }
   ],
   "source": [
    "#--------Instance--------------------------------------\n",
    "#Define types for Mainpage\n",
    "g.add((console, RDFS.subClassOf, Category)) # triple set：\"_SubjectType\", \"_PredicateType\", \"_ObjectType\"\n",
    "g.add((games, RDFS.subClassOf, Category))\n",
    "g.add((merchandise, RDFS.subClassOf,Category))\n",
    "g.add((franchise, RDFS.subClassOf, Category))\n",
    "g.add((new_product, RDFS.subClassOf, Category))\n",
    "\n",
    "#Define subclasses of main categories\n",
    "g.add((switch, RDFS.subClassOf, console))\n",
    "g.add((switch_bundle, RDFS.subClassOf, console))\n",
    "g.add((accessory, RDFS.subClassOf, console))\n",
    "\n",
    "g.add((apparel, RDFS.subClassOf, merchandise))\n",
    "g.add((home_and_gifts, RDFS.subClassOf, merchandise))\n"
   ]
  },
  {
   "cell_type": "code",
   "execution_count": 5,
   "metadata": {},
   "outputs": [],
   "source": [
    "import pandas as pd\n",
    "\n",
    "df = pd.read_csv(\"group-14_ken3140_webshop.csv\")\n",
    "\n",
    "for i,row in df.iterrows():\n",
    "    # Check if URI is empty, skip the empty ones\n",
    "    if not pd.isna(row[\"Item URI\"]) :\n",
    "        item = NS[row[\"Item URL\"].replace(\"https://store.nintendo.nl/nl/\",\"\").replace(\" \",\"\")]\n",
    "        for category in row['Category'].split(\",\"):\n",
    "            g.add((item, SDO.isVariantOf, locals()[category])) #When used with ProductGroup, this property can apply to any Product included in the group.\n",
    "        \n",
    "        g.add((item, RDF.type, Product))\n",
    "        g.add((item, SDO.name, Literal(row[\"Value 1\"])))\n",
    "        g.add((item, SDO.description, Literal(row[\"Value 2\"])))\n",
    "        g.add((item, SDO.sku, Literal(row[\"Value 3\"])))\n",
    "        g.add((item, SDO.price, Literal(row[\"Value 4\"])))\n",
    "        g.add((item, SDO.brand, Brand)) \n",
    "    #    graph.add((product, schema[row[\"link\"]],eval(row[\"type\"])))\n"
   ]
  },
  {
   "cell_type": "code",
   "execution_count": 6,
   "metadata": {},
   "outputs": [
    {
     "name": "stdout",
     "output_type": "stream",
     "text": [
      "[a rdfg:Graph;rdflib:storage [a rdflib:Store;rdfs:label 'Memory']].\n"
     ]
    }
   ],
   "source": [
    "g.bind('NS', NS)\n",
    "\n",
    "print(g.serialize('group-14_ken3140_webshop.ttl',format='turtle'))"
   ]
  },
  {
   "cell_type": "markdown",
   "metadata": {},
   "source": [
    "## SPARQL:"
   ]
  },
  {
   "cell_type": "code",
   "execution_count": 7,
   "metadata": {},
   "outputs": [
    {
     "data": {
      "text/plain": [
       "<Graph identifier=N9bb4fb2bdd144a8fb316b882c7a8c1ce (<class 'rdflib.graph.Graph'>)>"
      ]
     },
     "execution_count": 7,
     "metadata": {},
     "output_type": "execute_result"
    }
   ],
   "source": [
    "from rdflib import Graph\n",
    "\n",
    "graph = Graph()\n",
    "graph.parse(\"group-14_ken3140_webshop.ttl\", format=\"turtle\")"
   ]
  },
  {
   "cell_type": "code",
   "execution_count": 8,
   "metadata": {},
   "outputs": [
    {
     "name": "stdout",
     "output_type": "stream",
     "text": [
      "59.99\n"
     ]
    }
   ],
   "source": [
    "'''\n",
    "AN EXAMPLE\n",
    "'''\n",
    "item_info_query = \"\"\"\n",
    "SELECT ?price WHERE {\n",
    "  ?s schema:name 'Splatoon 3'.\n",
    "  ?s schema:price ?price.\n",
    "}\n",
    "\"\"\"\n",
    "\n",
    "results = graph.query(item_info_query)\n",
    "for row in results:\n",
    "    print(row.price)"
   ]
  },
  {
   "cell_type": "markdown",
   "metadata": {},
   "source": [
    "### Questions:\n",
    "\n",
    "A. For a given item (select a random item from your RDF Graph), provide all its categories and subcategories, and its brand.\n",
    "\n",
    "B. Provide items from different subcategories that have the same brand.\n",
    "\n",
    "C. Group products by brand and show the average price or rating for each brand.\n",
    "\n",
    "D. Sort products in one category according to average brand price or rating.\n",
    "\n",
    "E. Use an external service point, provide a description of 5 facts about the top brand from part D (e.g. https://query.wikidata.org/), e.g. location of headquarters. You may return images as one of your facts.\n",
    "\n",
    "F. Recommend an item which is similar to the item using your linked RDF graph (i.e., shared properties and categories).\n",
    "\n",
    "G. Write your own question about the webshop in plain English, then translate it to the corresponding SPARQL query, and run it on the graph. Provide a rationale for why this query would be valuable in a webshop setting, such as for semantic search or other applications."
   ]
  },
  {
   "cell_type": "code",
   "execution_count": 9,
   "metadata": {},
   "outputs": [
    {
     "name": "stdout",
     "output_type": "stream",
     "text": [
      "Name:  T-shirt Splatoon 3 Splatfest 'Water'\n",
      "Category:  merchandise\n",
      "Subcategory:  https://store.nintendo.nl/nl/apparel\n",
      "Brand:  https://store.nintendo.nl/nl/Brand\n"
     ]
    }
   ],
   "source": [
    "'''\n",
    "Query A\n",
    " For a given item (select a random item from your RDF Graph), provide all its categories and subcategories, and its brand.\n",
    "'''\n",
    "queryA = \"\"\"\n",
    "SELECT ?name ?subcategory ?category ?brand\n",
    "WHERE {\n",
    "  ?item schema:brand ?brand .                   #Get the brand\n",
    "  ?item schema:name ?name.                      #Get item name\n",
    "  ?item schema:isVariantOf ?subcategory.            #Get the category.\n",
    "\n",
    "OPTIONAL {?subcategory rdfs:subClassOf ?category }    # if there exist subcategory, also get it.\n",
    "  }\n",
    "\n",
    "ORDER BY RAND()\n",
    "LIMIT 1\n",
    "\"\"\"\n",
    "\n",
    "resultA = graph.query(queryA)\n",
    "for row in resultA:\n",
    "    print('Name: ',row.name)\n",
    "    if(row.category==None):\n",
    "      print('Category: ',row.subcategory.replace(\"https://store.nintendo.nl/nl/\",\"\").replace(\"\",\"\"))\n",
    "    if(row.category!=None):\n",
    "      print('Category: ',row.category.replace(\"https://store.nintendo.nl/nl/\",\"\").replace(\"\",\"\"))\n",
    "      print('Subcategory: ',row.subcategory.replace(row.category+\"/\",\"\").replace(\"\",\"\"))\n",
    "    print('Brand: ',row.brand)"
   ]
  },
  {
   "cell_type": "code",
   "execution_count": 10,
   "metadata": {},
   "outputs": [
    {
     "name": "stdout",
     "output_type": "stream",
     "text": [
      "Name:  Nintendo Switch met neonblauwe/neonrode Joy-Con-controllers\n",
      "subCategory:  nintendo-switch-consoles\n",
      "Name:  Another Code: Recollection\n",
      "subCategory:  new\n",
      "Name:  Kirby's Return to Dream Land Deluxe-muismat\n",
      "subCategory:  franchises\n",
      "Name:  Game Boy-posterset\n",
      "subCategory:  home-and-gifts\n",
      "Name:  Beenband\n",
      "subCategory:  accessories\n",
      "Name:  Nintendo Switch (neonblauw/neonrood) Animal Crossing: New Horizons-bundel\n",
      "subCategory:  nintendo-switch-bundles\n",
      "Name:  Kirby's Dream Buffet-sleutelhanger\n",
      "subCategory:  apparel\n",
      "Name:  Animal Crossing: New Horizons\n",
      "subCategory:  games\n"
     ]
    }
   ],
   "source": [
    "'''\n",
    "Query B\n",
    " Provide items from different subcategories that have the same brand\n",
    "'''\n",
    "queryB = \"\"\"\n",
    "SELECT ?name ?subcategory\n",
    "WHERE {\n",
    "\n",
    "  {\n",
    "    #SAMPLE: We choose 1 item from each subcategory\n",
    "    SELECT DISTINCT ?subcategory (SAMPLE(?item) AS ?sampleItem)\n",
    "    WHERE {\n",
    "    ?item schema:brand ?brand . #choose same brand\n",
    "    ?item schema:name ?name .\n",
    "    ?item schema:isVariantOf ?subcategory .\n",
    "    }\n",
    "  GROUP BY ?subcategory\n",
    "  }\n",
    "\n",
    "  ?sampleItem schema:brand ?brand .\n",
    "  ?sampleItem schema:name ?name .\n",
    "  ?sampleItem schema:isVariantOf ?subcategory .\n",
    "  }\n",
    "ORDER BY RAND()\n",
    "\"\"\"\n",
    "\n",
    "resultB = graph.query(queryB)\n",
    "for row in resultB:\n",
    "    print('Name: ',row.name)\n",
    "    print('subCategory: ',row.subcategory.replace(\"https://store.nintendo.nl/nl/\",\"\").replace(\"\",\"\"))"
   ]
  },
  {
   "cell_type": "code",
   "execution_count": 11,
   "metadata": {},
   "outputs": [
    {
     "name": "stdout",
     "output_type": "stream",
     "text": [
      "Brand:  https://store.nintendo.nl/nl/Brand\n",
      "Average Price:  101.22698113207538\n"
     ]
    }
   ],
   "source": [
    "'''\n",
    "Query C\n",
    " Group products by brand and show the average price or rating for each brand.\n",
    "'''\n",
    "queryC = \"\"\"\n",
    "SELECT ?brand (AVG(?price) AS ?averagePrice)\n",
    "WHERE {\n",
    "  ?item schema:brand ?brand .\n",
    "  ?item schema:price ?price .\n",
    "}\n",
    "GROUP BY ?brand\n",
    "\"\"\"\n",
    "\n",
    "resultC = graph.query(queryC)\n",
    "for row in resultC:\n",
    "    print('Brand: ',row.brand)\n",
    "    print('Average Price: ',row.averagePrice)"
   ]
  },
  {
   "cell_type": "code",
   "execution_count": 12,
   "metadata": {},
   "outputs": [
    {
     "name": "stdout",
     "output_type": "stream",
     "text": [
      "category:  accessories\n",
      "item:  https://store.nintendo.nl/nl/beenband-000000000010001376\n",
      "price:  10.99\n",
      "category:  accessories\n",
      "item:  https://store.nintendo.nl/nl/nintendo-switch-pro-controller-the-legend-of-zelda-tears-of-the-kingdom-edition-000000000010009831\n",
      "price:  74.99\n"
     ]
    }
   ],
   "source": [
    "'''\n",
    "Query D\n",
    " Sort products in one category according to average brand price or rating.\n",
    " Note: we only have one brand here, so we sort it according to its price\n",
    "'''\n",
    "queryD = \"\"\"\n",
    "SELECT ?item ?category ?price\n",
    "WHERE {\n",
    "  {\n",
    "    #Here we choose a random category\n",
    "    SELECT ?category\n",
    "    WHERE {\n",
    "      ?item schema:isVariantOf ?category .\n",
    "    }\n",
    "    ORDER BY RAND()\n",
    "    LIMIT 1\n",
    "  }\n",
    "\n",
    "  ?item schema:isVariantOf ?category.    #Get all items within that category\n",
    "  ?item schema:price ?price .\n",
    "\n",
    "}\n",
    "ORDER BY ?price   #sort by price\n",
    "\"\"\"\n",
    "\n",
    "resultD = graph.query(queryD)\n",
    "for row in resultD:\n",
    "    print('category: ',row.category.replace(\"https://store.nintendo.nl/nl/\",\"\").replace(\"\",\"\"))\n",
    "    print('item: ',row.item)\n",
    "    print('price: ',row.price)"
   ]
  },
  {
   "cell_type": "code",
   "execution_count": 13,
   "metadata": {},
   "outputs": [
    {
     "name": "stdout",
     "output_type": "stream",
     "text": [
      "item:  https://store.nintendo.nl/nl/beenband-000000000010001376\n",
      "category accessories\n",
      "price:  10.99\n",
      "item:  https://store.nintendo.nl/nl/nintendo-switch-pro-controller-the-legend-of-zelda-tears-of-the-kingdom-edition-000000000010009831\n",
      "category accessories\n",
      "price:  74.99\n"
     ]
    }
   ],
   "source": [
    "'''\n",
    "Query D\n",
    " Sort products in one category according to average brand price or rating.\n",
    "'''\n",
    "queryD = \"\"\"\n",
    "SELECT ?item ?category ?price\n",
    "WHERE {\n",
    "  {\n",
    "    SELECT ?brand (AVG(?price) AS ?averagePrice)\n",
    "    WHERE {\n",
    "      ?item schema:brand ?brand .\n",
    "      ?item schema:price ?price .\n",
    "    }\n",
    "  GROUP BY ?brand\n",
    "  }\n",
    "\n",
    "  {SELECT ?category #Here we choose a random category\n",
    "    WHERE {\n",
    "      ?item schema:isVariantOf ?category .\n",
    "    }\n",
    "    ORDER BY RAND()\n",
    "    LIMIT 1\n",
    "  }\n",
    "\n",
    "  ?item schema:isVariantOf ?category.    \n",
    "  ?item schema:price ?price .\n",
    "\n",
    "}\n",
    "ORDER BY ?averagePrice   #sort by average price\n",
    "\"\"\"\n",
    "\n",
    "resultD = graph.query(queryD)\n",
    "for row in resultD:\n",
    "    print('item: ',row.item)\n",
    "    print('category', row.category.replace(\"https://store.nintendo.nl/nl/\",\"\").replace(\"\",\"\"))\n",
    "    print('price: ',row.price)"
   ]
  },
  {
   "cell_type": "code",
   "execution_count": 14,
   "metadata": {},
   "outputs": [
    {
     "data": {
      "text/plain": [
       "['http://commons.wikimedia.org/wiki/Special:FilePath/Nintendo.svg',\n",
       " 'http://www.wikidata.org/entity/Q34600',\n",
       " 'http://www.wikidata.org/entity/Q52177144',\n",
       " 'http://www.wikidata.org/entity/Q941594',\n",
       " 'Nintendo Co., Ltd.']"
      ]
     },
     "execution_count": 14,
     "metadata": {},
     "output_type": "execute_result"
    }
   ],
   "source": [
    "'''\n",
    "Query E\n",
    "E. Use an external service point, provide a description of 5 facts about the top brand from part D (e.g. https://query.wikidata.org/), e.g. location of headquarters. You may return images as one of your facts.\n",
    "'''\n",
    "import requests\n",
    "\n",
    "url = 'https://query.wikidata.org/sparql'\n",
    "queryE = '''\n",
    "SELECT ?property ?propertyLabel (SAMPLE(?value) as ?sampleValue) (SAMPLE(?valueLabel) as ?sampleValueLabel)\n",
    "WHERE {\n",
    "  wd:Q8093 ?property ?value.\n",
    "  SERVICE wikibase:label { bd:serviceParam wikibase:language \"[AUTO_LANGUAGE],en\". }\n",
    "  FILTER (?property IN (wdt:P154, wdt:P159, wdt:P169,  wdt:P452,  wdt:P1448))\n",
    "  \n",
    "  #Q8093: Nintendo\n",
    "  #154: logo image\n",
    "  #159: headquarters location\n",
    "  #452: industry\n",
    "  #1448: official name\n",
    "  #169: chief executive officer\n",
    "}\n",
    "GROUP BY ?property ?propertyLabel\n",
    "'''\n",
    "r = requests.get(url, params = {'format': 'json', 'query': queryE})\n",
    "data = r.json()\n",
    "resultE = []\n",
    "for each in data['results']['bindings']:\n",
    "    resultE.append(each['sampleValue']['value'])\n",
    "resultE"
   ]
  },
  {
   "cell_type": "code",
   "execution_count": 15,
   "metadata": {},
   "outputs": [
    {
     "name": "stdout",
     "output_type": "stream",
     "text": [
      "item:  Fae Farm\n",
      "price:  59.99\n",
      "category:  games\n",
      "similar item:  Bayonetta 3\n",
      "With price:  59.99\n",
      "With category:  games\n"
     ]
    }
   ],
   "source": [
    "'''\n",
    "Query F\n",
    "F. Recommend an item which is similar to the item using your linked RDF graph (i.e., shared properties and categories).\n",
    "'''\n",
    "queryF = \"\"\"\n",
    "SELECT DISTINCT ?name1 ?name2 ?price1 ?price2 ?category\n",
    "WHERE {\n",
    "    ?item1 schema:price ?price1.\n",
    "    ?item2 schema:price ?price2.\n",
    "\n",
    "    # recommand item with similar price:\n",
    "    ?item1 schema:name ?name1.\n",
    "    ?item2 schema:name ?name2.\n",
    "\n",
    "    ?item1 schema:isVariantOf ?category.\n",
    "    ?item2 schema:isVariantOf ?category.\n",
    "\n",
    "    FILTER (ABS(?price1 - ?price2) <= 1)\n",
    "}\n",
    "ORDER BY RAND()\n",
    "Limit 1\n",
    "\"\"\"\n",
    "\n",
    "resultF = graph.query(queryF)\n",
    "for row in resultF:\n",
    "    print('item: ',row.name1)\n",
    "    print('price: ',row.price1)\n",
    "    print('category: ',row.category.replace(\"https://store.nintendo.nl/nl/\",\"\").replace(\"\",\"\"))\n",
    "\n",
    "    print('similar item: ',row.name2)  \n",
    "    print('With price: ',row.price2)\n",
    "    print('With category: ',row.category.replace(\"https://store.nintendo.nl/nl/\",\"\").replace(\"\",\"\"))"
   ]
  },
  {
   "cell_type": "code",
   "execution_count": 16,
   "metadata": {},
   "outputs": [
    {
     "name": "stdout",
     "output_type": "stream",
     "text": [
      "Name:  Nintendo Switch met neonblauwe/neonrode Joy-Con-controllers\n",
      "Price:  299.99\n",
      "Name:  Nintendo Switch – OLED-Model Mario Edition (rood)\n",
      "Price:  349.99\n",
      "Name:  Nintendo Switch - OLED-model (neonblauw/neonrood)\n",
      "Price:  349.99\n",
      "Name:  Nintendo Switch - OLED-model (wit)\n",
      "Price:  349.99\n",
      "Name:  Nintendo Switch – OLED Model Pokémon Scarlet & Violet Edition\n",
      "Price:  359.99\n",
      "Name:  Nintendo Switch™ – OLED-Model Splatoon 3 Edition\n",
      "Price:  359.99\n",
      "Name:  Nintendo Switch – OLED-model The Legend of Zelda: Tears of the Kingdom Edition \n",
      "Price:  359.99\n"
     ]
    }
   ],
   "source": [
    "'''\n",
    "Query G\n",
    "Write your own question about the webshop in plain English, then translate it to the corresponding SPARQL query, and run it on the graph. Provide a rationale for why this query would be valuable in a webshop setting, such as for semantic search or other applications.\n",
    "\n",
    "Question: what are the price of Switch? list their prices from low to high.\n",
    "'''\n",
    "\n",
    "queryG = \"\"\"\n",
    "SELECT ?name  ?price\n",
    "  WHERE {\n",
    "    ?switch schema:isVariantOf <https://store.nintendo.nl/nl/nintendo-switch-consoles>.\n",
    "    ?switch schema:name ?name .\n",
    "    ?switch schema:price ?price .\n",
    "}\n",
    "ORDER BY ?price   #sort by price\n",
    "\"\"\"\n",
    "\n",
    "resultG = graph.query(queryG)\n",
    "for row in resultG:\n",
    "       print('Name: ',row.name)\n",
    "       print('Price: ',row.price)"
   ]
  }
 ],
 "metadata": {
  "kernelspec": {
   "display_name": "Python 3",
   "language": "python",
   "name": "python3"
  },
  "language_info": {
   "codemirror_mode": {
    "name": "ipython",
    "version": 3
   },
   "file_extension": ".py",
   "mimetype": "text/x-python",
   "name": "python",
   "nbconvert_exporter": "python",
   "pygments_lexer": "ipython3",
   "version": "3.9.17"
  },
  "orig_nbformat": 4
 },
 "nbformat": 4,
 "nbformat_minor": 2
}
