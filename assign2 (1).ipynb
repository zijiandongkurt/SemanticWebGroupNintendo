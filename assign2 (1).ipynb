{
  "cells": [
    {
      "cell_type": "code",
      "source": [
        "!pip install rdflib\n"
      ],
      "metadata": {
        "colab": {
          "base_uri": "https://localhost:8080/"
        },
        "id": "XrV0HYt2PL2_",
        "outputId": "a71f4d12-c07e-4317-9d24-b9cfc1e6b0ce"
      },
      "execution_count": 211,
      "outputs": [
        {
          "output_type": "stream",
          "name": "stdout",
          "text": [
            "Requirement already satisfied: rdflib in /usr/local/lib/python3.10/dist-packages (7.0.0)\n",
            "Requirement already satisfied: isodate<0.7.0,>=0.6.0 in /usr/local/lib/python3.10/dist-packages (from rdflib) (0.6.1)\n",
            "Requirement already satisfied: pyparsing<4,>=2.1.0 in /usr/local/lib/python3.10/dist-packages (from rdflib) (3.1.1)\n",
            "Requirement already satisfied: six in /usr/local/lib/python3.10/dist-packages (from isodate<0.7.0,>=0.6.0->rdflib) (1.16.0)\n"
          ]
        }
      ]
    },
    {
      "cell_type": "code",
      "execution_count": 223,
      "metadata": {
        "pycharm": {
          "name": "#%%\n"
        },
        "id": "NW53_BlqPD5G"
      },
      "outputs": [],
      "source": [
        "from rdflib import URIRef, BNode, Literal, Namespace\n",
        "from rdflib.namespace import RDF, SDO, RDFS\n",
        "from rdflib import Graph\n",
        "\n",
        "#14\tNintendo shop - https://store.nintendo.nl/nl\n",
        "#Zijian Dong -i6226172\tAnqi Fan -i6272224\tQi Cui -i6288444\tTianyu Wei -i6231911\tZhefan Cheng -i6267501\n"
      ]
    },
    {
      "cell_type": "code",
      "source": [],
      "metadata": {
        "id": "bJH9QZGcPK95"
      },
      "execution_count": null,
      "outputs": []
    },
    {
      "cell_type": "code",
      "execution_count": 224,
      "metadata": {
        "pycharm": {
          "name": "#%%\n"
        },
        "id": "yUIS17xoPD5H"
      },
      "outputs": [],
      "source": [
        "# Make a graph\n",
        "g = Graph()\n",
        "NS = Namespace('https://store.nintendo.nl/nl/')\n",
        "nintendo = Literal(\"Nintendo\")\n",
        "#--------------Categories------------------------------------\n",
        "\n",
        "console = NS['consoles']\n",
        "games = NS['games']\n",
        "merchandise = NS['merchandise'] #周边merchandise\n",
        "franchise = NS['franchises'] #独家ip 和其它的会重复Exclusive IP and others will be duplicated\n",
        "new_product = NS['new']\n",
        "\n",
        "#--------Sub-Categories--------------------------------------\n",
        "#--------Sub Categories for consoles-------------------------\n",
        "switch = NS['consoles/nintendo-switch-consoles'] #是console的product\n",
        "switch_bundle = NS['consoles/nintendo-switch-bundles'] #是console的product\n",
        "accessory = NS['consoles/accessories'] #是switch的配件\n",
        "#-------Sub Categories for merchandise-----------------\n",
        "apparel = NS['merchandise/apparel']\n",
        "home_and_gifts = NS['merchandise/home-and-gifts']\n"
      ]
    },
    {
      "cell_type": "code",
      "execution_count": 225,
      "metadata": {
        "pycharm": {
          "name": "#%%\n"
        },
        "colab": {
          "base_uri": "https://localhost:8080/"
        },
        "id": "FTX9Cq1NPD5I",
        "outputId": "7035e80d-c38b-493c-94ab-76010403fa6d"
      },
      "outputs": [
        {
          "output_type": "execute_result",
          "data": {
            "text/plain": [
              "<Graph identifier=N7b91d4a6b22e42899f8bf382e7c4359b (<class 'rdflib.graph.Graph'>)>"
            ]
          },
          "metadata": {},
          "execution_count": 225
        }
      ],
      "source": [
        "#--------Instance--------------------------------------\n",
        "\n",
        "#Define types for Mainpage\n",
        "g.add((console, RDF.type, nintendo)) # add的三个参数：\"_SubjectType\", \"_PredicateType\", \"_ObjectType\"\n",
        "g.add((games, RDF.type, nintendo))\n",
        "g.add((merchandise, RDF.type, nintendo))\n",
        "g.add((franchise, RDF.type, nintendo))\n",
        "g.add((new_product, RDF.type, nintendo))\n",
        "\n",
        "#Define subclasses of main categories\n",
        "g.add((switch, RDFS.subClassOf, console))\n",
        "g.add((switch_bundle, RDFS.subClassOf, console))\n",
        "g.add((accessory, SDO.isAccessoryOrSparePartFor, console))\n",
        "\n",
        "g.add((apparel, RDFS.subClassOf, merchandise))\n",
        "g.add((home_and_gifts, RDFS.subClassOf, merchandise))\n"
      ]
    },
    {
      "cell_type": "code",
      "source": [
        "!pip install openpyxl\n"
      ],
      "metadata": {
        "colab": {
          "base_uri": "https://localhost:8080/"
        },
        "id": "PRqR_WkLQJxr",
        "outputId": "363c05ca-c1a4-4004-a89f-d5ebb901561b"
      },
      "execution_count": 226,
      "outputs": [
        {
          "output_type": "stream",
          "name": "stdout",
          "text": [
            "Requirement already satisfied: openpyxl in /usr/local/lib/python3.10/dist-packages (3.1.2)\n",
            "Requirement already satisfied: et-xmlfile in /usr/local/lib/python3.10/dist-packages (from openpyxl) (1.1.0)\n"
          ]
        }
      ]
    },
    {
      "cell_type": "code",
      "execution_count": 227,
      "metadata": {
        "pycharm": {
          "name": "#%%\n"
        },
        "id": "ya1old-iPD5J"
      },
      "outputs": [],
      "source": [
        "import pandas as pd\n",
        "\n",
        "\n",
        "#print(openpyxl.__version__)\n",
        "\n",
        "df = pd.read_excel(\"data.xlsx\")\n",
        "\n",
        "for i,row in df.iterrows():\n",
        "    # Check if URI is empty, skip the empty ones\n",
        "    if not pd.isna(row[\"Item_URI\"]) :\n",
        "        item = NS[row[\"Item_URL\"].replace(\"https://store.nintendo.nl/nl/\",\"\").replace(\" \",\"\")]\n",
        "        for category in row['type'].split(\",\"):\n",
        "            g.add((item, SDO.product, locals()[category]))\n",
        "        g.add((item, SDO.name, Literal(row[\"Value_1\"])))\n",
        "        g.add((item, SDO.description, Literal(row[\"Value_2\"])))\n",
        "        g.add((item, SDO.sku, Literal(row[\"Value_3\"])))\n",
        "        g.add((item, SDO.price, Literal(row[\"Value_4\"])))\n",
        "        g.add((item, SDO.brand, Literal(\"Nintendo\")))\n",
        "    #    graph.add((product, schema[row[\"link\"]],eval(row[\"type\"])))\n"
      ]
    },
    {
      "cell_type": "code",
      "execution_count": 228,
      "metadata": {
        "pycharm": {
          "name": "#%%\n"
        },
        "colab": {
          "base_uri": "https://localhost:8080/"
        },
        "id": "mrAJjeroPD5J",
        "outputId": "2cc1de4c-8959-4269-adde-9952b1c3cc9a"
      },
      "outputs": [
        {
          "output_type": "stream",
          "name": "stdout",
          "text": [
            "[a rdfg:Graph;rdflib:storage [a rdflib:Store;rdfs:label 'Memory']].\n"
          ]
        }
      ],
      "source": [
        "g.bind('NS', NS)\n",
        "\n",
        "print(g.serialize('Nintendo.ttl',format='turtle'))"
      ]
    },
    {
      "cell_type": "markdown",
      "metadata": {
        "pycharm": {
          "name": "#%% md\n"
        },
        "id": "yDsf2LFIPD5J"
      },
      "source": [
        "## SPARQL:"
      ]
    },
    {
      "cell_type": "code",
      "execution_count": 229,
      "metadata": {
        "pycharm": {
          "name": "#%%\n"
        },
        "colab": {
          "base_uri": "https://localhost:8080/"
        },
        "id": "T2n01QqKPD5K",
        "outputId": "03db3e38-a565-47a5-e590-9b1d0d757c50"
      },
      "outputs": [
        {
          "output_type": "execute_result",
          "data": {
            "text/plain": [
              "<Graph identifier=N9533879cb3574be8911513ee8f220326 (<class 'rdflib.graph.Graph'>)>"
            ]
          },
          "metadata": {},
          "execution_count": 229
        }
      ],
      "source": [
        "from rdflib import Graph\n",
        "\n",
        "graph = Graph()\n",
        "graph.parse(\"Nintendo.ttl\", format=\"turtle\")"
      ]
    },
    {
      "cell_type": "markdown",
      "source": [
        "Questions:\n",
        "\n",
        "A. For a given item (select a random item from your RDF Graph), provide all its categories and subcategories, and its brand.\n",
        "\n",
        "B. Provide items from different subcategories that have the same brand.\n",
        "\n",
        "C. Group products by brand and show the average price or rating for each brand.\n",
        "\n",
        "D. Sort products in one category according to average brand price or rating.\n",
        "\n",
        "E. Use an external service point, provide a description of 5 facts about the top brand from part D (e.g. https://query.wikidata.org/), e.g. location of headquarters. You may return images as one of your facts.\n",
        "\n",
        "F. Recommend an item which is similar to the item using your linked RDF graph (i.e., shared properties and categories).\n",
        "\n",
        "G. Write your own question about the webshop in plain English, then translate it to the corresponding SPARQL query, and run it on the graph. Provide a rationale for why this query would be valuable in a webshop setting, such as for semantic search or other applications."
      ],
      "metadata": {
        "id": "Nd9K3_QMSfcU"
      }
    },
    {
      "cell_type": "code",
      "execution_count": 230,
      "metadata": {
        "pycharm": {
          "name": "#%%\n"
        },
        "colab": {
          "base_uri": "https://localhost:8080/"
        },
        "id": "QPtgLyJDPD5K",
        "outputId": "0f72b3d6-3369-45c8-b127-84784f9f1a8a"
      },
      "outputs": [
        {
          "output_type": "stream",
          "name": "stdout",
          "text": [
            "59.99\n"
          ]
        }
      ],
      "source": [
        "'''\n",
        "AN EXAMPLE\n",
        "'''\n",
        "item_info_query = \"\"\"\n",
        "SELECT ?price WHERE {\n",
        "  ?s schema:name 'Splatoon 3'.\n",
        "  ?s schema:price ?price.\n",
        "}\n",
        "\"\"\"\n",
        "\n",
        "results = graph.query(item_info_query)\n",
        "for row in results:\n",
        "    print(row.price)"
      ]
    },
    {
      "cell_type": "code",
      "execution_count": 231,
      "metadata": {
        "pycharm": {
          "name": "#%%\n"
        },
        "colab": {
          "base_uri": "https://localhost:8080/"
        },
        "id": "sRSrXvZwPD5K",
        "outputId": "3760d49a-ffca-4178-fabc-9365eb82257d"
      },
      "outputs": [
        {
          "output_type": "stream",
          "name": "stdout",
          "text": [
            "Name:  Pikmin 4-theedoek\n",
            "Category:  https://store.nintendo.nl/nl/merchandise\n",
            "subCategory:  https://store.nintendo.nl/nl/merchandise/home-and-gifts\n",
            "Brand:  Nintendo\n"
          ]
        }
      ],
      "source": [
        "'''\n",
        "Query A\n",
        " For a given item (select a random item from your RDF Graph), provide all its categories and subcategories, and its brand.\n",
        "'''\n",
        "item_info_query = \"\"\"\n",
        "  SELECT ?name ?subcategory ?category ?brand\n",
        "  WHERE {\n",
        "    ?item schema:price ?price .\n",
        "   # FILTER (?price >= 0 && ?price <= 1000)        #We select all items by using price range\n",
        "\n",
        "    ?item schema:brand ?brand .                   #Get the brand\n",
        "    ?item schema:name ?name.                      #Get item name\n",
        "    ?item schema:product ?subcategory.            #Get the category.\n",
        "\n",
        "    OPTIONAL {?subcategory rdfs:subClassOf ?category }    # if there exist subcategory, also get it.\n",
        "  }\n",
        "\n",
        "\n",
        "ORDER BY RAND()\n",
        "LIMIT 1\n",
        "\"\"\"\n",
        "\n",
        "results = graph.query(item_info_query)\n",
        "for row in results:\n",
        "    print('Name: ',row.name)\n",
        "    if(row.category==None):\n",
        "      print('Category: ',row.subcategory)\n",
        "    if(row.category!=None):\n",
        "      print('Category: ',row.category)\n",
        "      print('subCategory: ',row.subcategory)\n",
        "    print('Brand: ',row.brand)\n",
        "\n"
      ]
    },
    {
      "cell_type": "code",
      "source": [
        "'''\n",
        "Query B\n",
        " Provide items from different subcategories that have the same brand\n",
        "'''\n",
        "item_info_query = \"\"\"\n",
        "  SELECT ?name ?subcategory\n",
        "  WHERE {\n",
        "\n",
        "                {\n",
        "                    #SAMPLE: We choose 1 item from each subcategory\n",
        "                    SELECT DISTINCT ?subcategory (SAMPLE(?item) AS ?sampleItem)\n",
        "                    WHERE {\n",
        "                      ?item schema:brand 'Nintendo' . #choose same brand\n",
        "                      ?item schema:name ?name .\n",
        "                      ?item schema:product ?subcategory .\n",
        "                    }\n",
        "                    GROUP BY ?subcategory\n",
        "\n",
        "\n",
        "                 }\n",
        "    ?sampleItem schema:brand 'Nintendo' .\n",
        "    ?sampleItem schema:name ?name .\n",
        "    ?sampleItem schema:product ?subcategory .\n",
        "  }\n",
        "\n",
        "\n",
        "ORDER BY RAND()\n",
        "LIMIT 10\n",
        "\"\"\"\n",
        "\n",
        "results = graph.query(item_info_query)\n",
        "for row in results:\n",
        "    print('Name: ',row.name)\n",
        "    print('subCategory: ',row.subcategory)\n",
        "\n"
      ],
      "metadata": {
        "colab": {
          "base_uri": "https://localhost:8080/"
        },
        "id": "d0dsExkaoTNK",
        "outputId": "09abbb4e-dea1-4699-88af-1dd6bea674d1"
      },
      "execution_count": 235,
      "outputs": [
        {
          "output_type": "stream",
          "name": "stdout",
          "text": [
            "Name:  Nintendo Switch (neonblauw/neonrood) Animal Crossing: New Horizons-bundel\n",
            "subCategory:  https://store.nintendo.nl/nl/consoles/nintendo-switch-bundles\n",
            "Name:  Nintendo Switch met neonblauwe/neonrode Joy-Con-controllers\n",
            "subCategory:  https://store.nintendo.nl/nl/consoles/nintendo-switch-consoles\n",
            "Name:  Another Code: Recollection\n",
            "subCategory:  https://store.nintendo.nl/nl/new\n",
            "Name:  Kirby's Return to Dream Land Deluxe-muismat\n",
            "subCategory:  https://store.nintendo.nl/nl/merchandise\n",
            "Name:  Beenband\n",
            "subCategory:  https://store.nintendo.nl/nl/consoles/accessories\n",
            "Name:  Game Boy-posterset\n",
            "subCategory:  https://store.nintendo.nl/nl/merchandise/home-and-gifts\n",
            "Name:  Kirby's Dream Buffet-sleutelhanger\n",
            "subCategory:  https://store.nintendo.nl/nl/merchandise/apparel\n",
            "Name:  Kirby's Return to Dream Land Deluxe-muismat\n",
            "subCategory:  https://store.nintendo.nl/nl/franchises\n",
            "Name:  Animal Crossing: New Horizons\n",
            "subCategory:  https://store.nintendo.nl/nl/games\n"
          ]
        }
      ]
    },
    {
      "cell_type": "code",
      "source": [
        "'''\n",
        "Query C\n",
        " Group products by brand and show the average price or rating for each brand.\n",
        "'''\n",
        "item_info_query = \"\"\"\n",
        "      SELECT ?brand (AVG(?price) AS ?averagePrice)\n",
        "        WHERE {\n",
        "          ?item schema:brand ?brand .\n",
        "          ?item schema:price ?price .\n",
        "        }\n",
        "        GROUP BY ?brand\n",
        "\"\"\"\n",
        "\n",
        "results = graph.query(item_info_query)\n",
        "for row in results:\n",
        "    print('Brand: ',row.brand)\n",
        "    print('Average Price: ',row.averagePrice)\n",
        "\n"
      ],
      "metadata": {
        "colab": {
          "base_uri": "https://localhost:8080/"
        },
        "id": "wbEC8loDvoPe",
        "outputId": "db310b1c-76a4-4896-9f09-b1184d0fdf82"
      },
      "execution_count": 236,
      "outputs": [
        {
          "output_type": "stream",
          "name": "stdout",
          "text": [
            "Brand:  Nintendo\n",
            "Average Price:  101.22698113207538\n"
          ]
        }
      ]
    },
    {
      "cell_type": "code",
      "source": [
        "'''\n",
        "Query D\n",
        " Sort products in one category according to average brand price or rating.\n",
        "'''\n",
        "item_info_query = \"\"\"\n",
        "      SELECT ?item ?category ?price\n",
        "        WHERE {\n",
        "\n",
        "\n",
        "            {\n",
        "              #Here we choose a random category\n",
        "              SELECT ?category\n",
        "                WHERE {\n",
        "                  ?item schema:product ?category .\n",
        "                }\n",
        "                ORDER BY RAND()\n",
        "                LIMIT 1\n",
        "            }\n",
        "\n",
        "        ?item schema:product ?category.    #Get all items within that category\n",
        "        ?item schema:price ?price .\n",
        "\n",
        "        }\n",
        "        ORDER BY ?price   #sort by price\n",
        "\"\"\"\n",
        "\n",
        "results = graph.query(item_info_query)\n",
        "for row in results:\n",
        "    print('category: ',row.category)\n",
        "    print('item: ',row.item)\n",
        "    print('price: ',row.price)"
      ],
      "metadata": {
        "colab": {
          "base_uri": "https://localhost:8080/"
        },
        "id": "sAZddQ1xxflA",
        "outputId": "e531b6c4-d745-46c0-a9dc-cff41dfe3c2b"
      },
      "execution_count": 237,
      "outputs": [
        {
          "output_type": "stream",
          "name": "stdout",
          "text": [
            "category:  https://store.nintendo.nl/nl/consoles/nintendo-switch-bundles\n",
            "item:  https://store.nintendo.nl/nl/nintendo-switch-neonblauwneonrood-animal-crossing-new-horizons-bundel-B00403\n",
            "price:  359.99\n",
            "category:  https://store.nintendo.nl/nl/consoles/nintendo-switch-bundles\n",
            "item:  https://store.nintendo.nl/nl/nintendo-switch-neonblauwneonrood-luigis-mansion-3-bundel-B00418\n",
            "price:  359.99\n"
          ]
        }
      ]
    },
    {
      "cell_type": "code",
      "source": [],
      "metadata": {
        "id": "jONpEtHM0tVe"
      },
      "execution_count": 238,
      "outputs": []
    },
    {
      "cell_type": "code",
      "source": [
        "!pip install SPARQLWrapper\n"
      ],
      "metadata": {
        "colab": {
          "base_uri": "https://localhost:8080/"
        },
        "id": "gzqmO7A1mJ2-",
        "outputId": "05d2b813-2e4b-4e7f-c30d-acb2e1bb1b5d"
      },
      "execution_count": 240,
      "outputs": [
        {
          "output_type": "stream",
          "name": "stdout",
          "text": [
            "Collecting SPARQLWrapper\n",
            "  Downloading SPARQLWrapper-2.0.0-py3-none-any.whl (28 kB)\n",
            "Requirement already satisfied: rdflib>=6.1.1 in /usr/local/lib/python3.10/dist-packages (from SPARQLWrapper) (7.0.0)\n",
            "Requirement already satisfied: isodate<0.7.0,>=0.6.0 in /usr/local/lib/python3.10/dist-packages (from rdflib>=6.1.1->SPARQLWrapper) (0.6.1)\n",
            "Requirement already satisfied: pyparsing<4,>=2.1.0 in /usr/local/lib/python3.10/dist-packages (from rdflib>=6.1.1->SPARQLWrapper) (3.1.1)\n",
            "Requirement already satisfied: six in /usr/local/lib/python3.10/dist-packages (from isodate<0.7.0,>=0.6.0->rdflib>=6.1.1->SPARQLWrapper) (1.16.0)\n",
            "Installing collected packages: SPARQLWrapper\n",
            "Successfully installed SPARQLWrapper-2.0.0\n"
          ]
        }
      ]
    },
    {
      "cell_type": "code",
      "source": [
        "'''\n",
        "Query F\n",
        "F. Recommend an item which is similar to the item using your linked RDF graph (i.e., shared properties and categories).\n",
        "'''\n",
        "from SPARQLWrapper import SPARQLWrapper, JSON\n",
        "\n",
        "# Set up the SPARQL endpoint URL for Wikidata Query Service\n",
        "wikidata_endpoint_url = \"https://query.wikidata.org/sparql\"\n",
        "\n",
        "# Create a SPARQLWrapper object and set the endpoint URL\n",
        "sparql = SPARQLWrapper(wikidata_endpoint_url)\n",
        "\n",
        "# Define your SPARQL query\n",
        "query = \"\"\"\n",
        "PREFIX wd: <http://www.wikidata.org/entity/>\n",
        "PREFIX wdt: <http://www.wikidata.org/prop/direct/>\n",
        "PREFIX rdfs: <http://www.w3.org/2000/01/rdf-schema#>\n",
        "\n",
        "SELECT ?property ?propertyLabel (SAMPLE(?value) as ?sampleValue) (SAMPLE(?valueLabel) as ?sampleValueLabel)\n",
        "WHERE {\n",
        "  wd:Q8093 ?property ?value.\n",
        "  SERVICE wikibase:label { bd:serviceParam wikibase:language \"[AUTO_LANGUAGE],en\". }\n",
        "  FILTER (?property IN (wdt:P154, wdt:P159, wdt:P452, wdt:P1448, wdt:P169))\n",
        "\n",
        "    #154:logo image\n",
        "  #159: headquarters location\n",
        "  #452: industry\n",
        "  #1448: official name\n",
        "  #169: chief executive officer\n",
        "\n",
        "}\n",
        "GROUP BY ?property ?propertyLabel\n",
        "\"\"\"\n",
        "\n",
        "# Set the SPARQL query\n",
        "sparql.setQuery(query)\n",
        "\n",
        "# Set the return format to JSON\n",
        "sparql.setReturnFormat(JSON)\n",
        "\n",
        "# Execute the query and get the results\n",
        "results = sparql.query().convert()\n",
        "\n",
        "# Print the results\n",
        "# Assuming 'results' contains the SPARQL query results\n",
        "\n",
        "\n",
        "for result in results[\"results\"][\"bindings\"]:\n",
        "    property_label = result[\"propertyLabel\"][\"value\"]\n",
        "    sample_value_label = result[\"sampleValueLabel\"][\"value\"] if \"sampleValueLabel\" in result else \"N/A\"\n",
        "    print(f\"Property: {property_label}, Value: {sample_value_label}\")\n",
        "\n",
        ""
      ],
      "metadata": {
        "colab": {
          "base_uri": "https://localhost:8080/"
        },
        "id": "zK1q6A_QCdGu",
        "outputId": "bc85c7f1-37cf-40c3-e645-f143c95b892c"
      },
      "execution_count": 248,
      "outputs": [
        {
          "output_type": "stream",
          "name": "stdout",
          "text": [
            "Property: http://www.wikidata.org/prop/direct/P154, Value: N/A\n",
            "Property: http://www.wikidata.org/prop/direct/P159, Value: N/A\n",
            "Property: http://www.wikidata.org/prop/direct/P169, Value: N/A\n",
            "Property: http://www.wikidata.org/prop/direct/P452, Value: N/A\n",
            "Property: http://www.wikidata.org/prop/direct/P1448, Value: N/A\n"
          ]
        }
      ]
    },
    {
      "cell_type": "code",
      "source": [
        "'''\n",
        "Query G\n",
        "Write your own question about the webshop in plain English, then translate it to the corresponding SPARQL query, and run it on the graph. Provide a rationale for why this query would be valuable in a webshop setting, such as for semantic search or other applications.\n",
        "'''\n",
        "item_info_query = \"\"\"\n",
        "\n",
        "\n",
        "\"\"\"\n",
        "\n",
        "results = graph.query(item_info_query)\n",
        "for row in results:\n",
        "#    print('Brand: ',row.brand)\n",
        " #   print('Average Price: ',row.averagePrice)\n"
      ],
      "metadata": {
        "id": "tzE2BIn8C7LP"
      },
      "execution_count": null,
      "outputs": []
    },
    {
      "cell_type": "code",
      "execution_count": null,
      "metadata": {
        "pycharm": {
          "name": "#%%\n"
        },
        "id": "_rbeSzZOPD5K"
      },
      "outputs": [],
      "source": [
        "# Check the full graph: 查看所有语句 很长 没事别run 需要检查的时候再跑\n",
        "query = \"\"\"\n",
        "SELECT * WHERE {\n",
        "  ?s ?p ?o\n",
        "}\n",
        "\"\"\"\n",
        "results = graph.query(query)\n",
        "for row in results:\n",
        "    print(row)"
      ]
    }
  ],
  "metadata": {
    "kernelspec": {
      "display_name": "Python 3",
      "language": "python",
      "name": "python3"
    },
    "language_info": {
      "codemirror_mode": {
        "name": "ipython",
        "version": 3
      },
      "file_extension": ".py",
      "mimetype": "text/x-python",
      "name": "python",
      "nbconvert_exporter": "python",
      "pygments_lexer": "ipython3",
      "version": "3.10.12"
    },
    "orig_nbformat": 4,
    "colab": {
      "provenance": []
    }
  },
  "nbformat": 4,
  "nbformat_minor": 0
}