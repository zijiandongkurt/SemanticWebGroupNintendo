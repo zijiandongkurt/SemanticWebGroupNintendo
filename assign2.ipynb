{
 "cells": [
  {
   "cell_type": "code",
   "execution_count": 1,
   "metadata": {},
   "outputs": [],
   "source": [
    "from rdflib import URIRef, BNode, Literal, Namespace\n",
    "from rdflib.namespace import RDF, SDO, RDFS\n",
    "from rdflib import Graph\n",
    "\n",
    "#14\tNintendo shop - https://store.nintendo.nl/nl\n",
    "#Zijian Dong -i6226172\tAnqi Fan -i6272224\tQi Cui -i6288444\tTianyu Wei -i6231911\tZhefan Cheng -i6267501\n"
   ]
  },
  {
   "cell_type": "code",
   "execution_count": 2,
   "metadata": {},
   "outputs": [],
   "source": [
    "# Make a graph\n",
    "g = Graph()\n",
    "NS = Namespace('https://store.nintendo.nl/nl/')\n",
    "nintendo = Literal(\"Nintendo\")\n",
    "#--------------Categories------------------------------------\n",
    "\n",
    "console = NS['consoles']\n",
    "games = NS['games']\n",
    "merchandise = NS['merchandise'] #周边merchandise\n",
    "franchise = NS['franchises'] #独家ip 和其它的会重复Exclusive IP and others will be duplicated\n",
    "new_product = NS['new']\n",
    "\n",
    "#--------Sub-Categories--------------------------------------\n",
    "#--------Sub Categories for consoles-------------------------\n",
    "switch = NS['consoles/nintendo-switch-consoles'] #是console的product\n",
    "switch_bundle = NS['consoles/nintendo-switch-bundles'] #是console的product\n",
    "accessory = NS['consoles/accessories'] #是switch的配件\n",
    "#-------Sub Categories for merchandise-----------------\n",
    "apparel = NS['merchandise/apparel']\n",
    "home_and_gifts = NS['merchandise/home-and-gifts']\n"
   ]
  },
  {
   "cell_type": "code",
   "execution_count": 3,
   "metadata": {},
   "outputs": [
    {
     "data": {
      "text/plain": [
       "<Graph identifier=N41552e07f08a4ac78b61b5b520c98cfc (<class 'rdflib.graph.Graph'>)>"
      ]
     },
     "execution_count": 3,
     "metadata": {},
     "output_type": "execute_result"
    }
   ],
   "source": [
    "#--------Instance--------------------------------------\n",
    "\n",
    "#Define types for Mainpage\n",
    "g.add((console, RDF.type, nintendo)) # add的三个参数：\"_SubjectType\", \"_PredicateType\", \"_ObjectType\"\n",
    "g.add((games, RDF.type, nintendo))\n",
    "g.add((merchandise, RDF.type, nintendo))\n",
    "g.add((franchise, RDF.type, nintendo))\n",
    "g.add((new_product, RDF.type, nintendo))\n",
    "\n",
    "#Define subclasses of main categories\n",
    "g.add((switch, RDFS.subClassOf, console))\n",
    "g.add((switch_bundle, RDFS.subClassOf, console))\n",
    "g.add((accessory, SDO.isAccessoryOrSparePartFor, console))\n",
    "\n",
    "g.add((apparel, RDFS.subClassOf, merchandise))\n",
    "g.add((home_and_gifts, RDFS.subClassOf, merchandise))\n"
   ]
  },
  {
   "cell_type": "code",
   "execution_count": 4,
   "metadata": {},
   "outputs": [
    {
     "name": "stderr",
     "output_type": "stream",
     "text": [
      "C:\\Users\\AnkieF\\AppData\\Local\\Temp\\ipykernel_30432\\3898633231.py:10: UserWarning: Code: product is not defined in namespace SDO\n",
      "  g.add((item, SDO.product, locals()[category]))\n"
     ]
    }
   ],
   "source": [
    "import pandas as pd\n",
    "\n",
    "df = pd.read_excel(\"data.xlsx\")\n",
    "\n",
    "for i,row in df.iterrows():\n",
    "    # Check if URI is empty, skip the empty ones\n",
    "    if not pd.isna(row[\"Item_URI\"]) :\n",
    "        item = NS[row[\"Item_URL\"].replace(\"https://store.nintendo.nl/nl/\",\"\").replace(\" \",\"\")]\n",
    "        for category in row['type'].split(\",\"):\n",
    "            g.add((item, SDO.product, locals()[category]))\n",
    "        g.add((item, SDO.name, Literal(row[\"Value_1\"])))\n",
    "        g.add((item, SDO.description, Literal(row[\"Value_2\"])))\n",
    "        g.add((item, SDO.sku, Literal(row[\"Value_3\"])))\n",
    "        g.add((item, SDO.price, Literal(row[\"Value_4\"])))\n",
    "        g.add((item, SDO.brand, Literal(\"Nintendo\"))) \n",
    "    #    graph.add((product, schema[row[\"link\"]],eval(row[\"type\"])))\n"
   ]
  },
  {
   "cell_type": "code",
   "execution_count": 5,
   "metadata": {},
   "outputs": [
    {
     "name": "stdout",
     "output_type": "stream",
     "text": [
      "[a rdfg:Graph;rdflib:storage [a rdflib:Store;rdfs:label 'Memory']].\n"
     ]
    }
   ],
   "source": [
    "g.bind('NS', NS)\n",
    "\n",
    "print(g.serialize('Nintendo.ttl',format='turtle'))"
   ]
  },
  {
   "cell_type": "markdown",
   "metadata": {},
   "source": [
    "## SPARQL:"
   ]
  },
  {
   "cell_type": "code",
   "execution_count": 6,
   "metadata": {},
   "outputs": [
    {
     "data": {
      "text/plain": [
       "<Graph identifier=N60e3edab5dc14eaf91956292cb8425ee (<class 'rdflib.graph.Graph'>)>"
      ]
     },
     "execution_count": 6,
     "metadata": {},
     "output_type": "execute_result"
    }
   ],
   "source": [
    "from rdflib import Graph\n",
    "\n",
    "graph = Graph()\n",
    "graph.parse(\"Nintendo.ttl\", format=\"turtle\")"
   ]
  },
  {
   "cell_type": "code",
   "execution_count": 8,
   "metadata": {},
   "outputs": [
    {
     "name": "stdout",
     "output_type": "stream",
     "text": [
      "59.99\n"
     ]
    }
   ],
   "source": [
    "'''\n",
    "AN EXAMPLE\n",
    "'''\n",
    "item_info_query = \"\"\"\n",
    "SELECT ?price WHERE {\n",
    "  ?s schema:name 'Splatoon 3'.\n",
    "  ?s schema:price ?price.\n",
    "}\n",
    "\"\"\"\n",
    "\n",
    "results = graph.query(item_info_query)\n",
    "for row in results:\n",
    "    print(row.price)"
   ]
  },
  {
   "cell_type": "code",
   "execution_count": null,
   "metadata": {},
   "outputs": [],
   "source": []
  },
  {
   "cell_type": "code",
   "execution_count": null,
   "metadata": {},
   "outputs": [],
   "source": [
    "# Check the full graph: 查看所有语句 很长 没事别run 需要检查的时候再跑\n",
    "query = \"\"\"\n",
    "SELECT * WHERE {\n",
    "  ?s ?p ?o\n",
    "}\n",
    "\"\"\"\n",
    "results = graph.query(query)\n",
    "for row in results:\n",
    "    print(row)"
   ]
  }
 ],
 "metadata": {
  "kernelspec": {
   "display_name": "Python 3",
   "language": "python",
   "name": "python3"
  },
  "language_info": {
   "codemirror_mode": {
    "name": "ipython",
    "version": 3
   },
   "file_extension": ".py",
   "mimetype": "text/x-python",
   "name": "python",
   "nbconvert_exporter": "python",
   "pygments_lexer": "ipython3",
   "version": "3.10.12"
  },
  "orig_nbformat": 4
 },
 "nbformat": 4,
 "nbformat_minor": 2
}
