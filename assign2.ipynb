{
 "cells": [
  {
   "cell_type": "code",
   "execution_count": 2,
   "metadata": {},
   "outputs": [],
   "source": [
    "from rdflib import URIRef, BNode, Literal, Namespace\n",
    "from rdflib.namespace import FOAF, DCTERMS, XSD, RDF, SDO, RDFS\n",
    "from rdflib import Graph\n",
    "\n",
    "#14\tNintendo shop - https://store.nintendo.nl/nl\n",
    "#Zijian Dong -i6226172\tAnqi Fan -i6272224\tQi Cui -i6288444\tTianyu Wei -i6231911\tZhefan Cheng -i6267501\n"
   ]
  },
  {
   "cell_type": "code",
   "execution_count": 3,
   "metadata": {},
   "outputs": [],
   "source": [
    "# Make a graph\n",
    "g = Graph()\n",
    "NS = Namespace('https://store.nintendo.nl/nl/')\n",
    "schema = Namespace(\"http://schema.org/\")\n",
    "nintendo = Literal(\"Nintendo\")\n",
    "#--------------Categories------------------------------------\n",
    "\n",
    "console = NS['consoles']\n",
    "games = NS['games']\n",
    "merchandise = NS['merchandise'] #周边merchandise\n",
    "franchise = NS['franchises'] #独家ip 和其它的会重复Exclusive IP and others will be duplicated\n",
    "new_product = NS['new']\n",
    "\n",
    "#--------Sub-Categories--------------------------------------\n",
    "#--------Sub Categories for consoles-------------------------\n",
    "switch = NS['consoles/nintendo-switch-consoles'] #是console的product\n",
    "switch_bundle = NS['consoles/nintendo-switch-bundles'] #是console的product\n",
    "accessory = NS['consoles/accessories'] #是switch的配件\n",
    "#-------Sub Categories for merchandise-----------------\n",
    "apparel = NS['merchandise/apparel']\n",
    "home_and_gift = NS['merchandise/home-and-gifts']\n"
   ]
  },
  {
   "cell_type": "code",
   "execution_count": 4,
   "metadata": {},
   "outputs": [
    {
     "data": {
      "text/plain": [
       "<Graph identifier=N014f01e75c0346c78c58c86f6249bcb8 (<class 'rdflib.graph.Graph'>)>"
      ]
     },
     "execution_count": 4,
     "metadata": {},
     "output_type": "execute_result"
    }
   ],
   "source": [
    "g.bind('NS', NS)\n",
    "\n",
    "#--------Predicates--------------------------------------------\n",
    "product = schema['Product']\n",
    "isAccessoryOf = schema['isAccessoryOrSparePartFor']\n",
    "isVariantOf = schema['isVariantOf']\n",
    "videoGame = schema['videoGame']\n",
    "#--------Instance--------------------------------------\n",
    "\n",
    "#Define types for Mainpage\n",
    "g.add((console, RDF.type, nintendo)) # add的三个参数：\"_SubjectType\", \"_PredicateType\", \"_ObjectType\"\n",
    "g.add((games, RDF.type, nintendo))\n",
    "g.add((merchandise, RDF.type, nintendo))\n",
    "g.add((franchise, RDF.type, nintendo))\n",
    "g.add((new_product, RDF.type, nintendo))\n",
    "\n",
    "#Define subclasses of main categories\n",
    "g.add((switch, RDFS.subClassOf, console))\n",
    "g.add((switch_bundle, RDFS.subClassOf, console))\n",
    "g.add((accessory, isAccessoryOf, console))\n",
    "\n",
    "g.add((apparel, RDFS.subClassOf, merchandise))\n",
    "g.add((home_and_gift, RDFS.subClassOf, merchandise))\n"
   ]
  },
  {
   "cell_type": "code",
   "execution_count": null,
   "metadata": {},
   "outputs": [],
   "source": [
    "import pandas as pd\n",
    "\n",
    "df = pd.read_excel(\"new2.xlsx\")\n",
    "\n",
    "for i,row in df.iterrows():\n",
    "    # 判断URI是否为空 跳过没有爬到的数据\n",
    "    if not pd.isna(row[\"Item_URI\"]) :\n",
    "        product = NS[row[\"Item_URL\"].replace(\"https://store.nintendo.nl/nl/\",\"\").replace(\" \",\"\")]\n",
    "        g.add((product, RDF.type, schema.Product))\n",
    "        g.add((product, schema.name, Literal(row[\"Value_1\"])))\n",
    "        g.add((product, schema.description, Literal(row[\"Value_2\"])))\n",
    "        g.add((product, schema.sku, Literal(row[\"Value_3\"])))\n",
    "        g.add((product, schema.price, Literal(row[\"Value_4\"])))\n",
    "        g.add((product, schema.brand, Literal(\"Nintendo\"))) \n",
    "    #    graph.add((product, schema[row[\"link\"]],eval(row[\"type\"])))\n"
   ]
  }
 ],
 "metadata": {
  "kernelspec": {
   "display_name": "Python 3",
   "language": "python",
   "name": "python3"
  },
  "language_info": {
   "codemirror_mode": {
    "name": "ipython",
    "version": 3
   },
   "file_extension": ".py",
   "mimetype": "text/x-python",
   "name": "python",
   "nbconvert_exporter": "python",
   "pygments_lexer": "ipython3",
   "version": "3.10.12"
  },
  "orig_nbformat": 4
 },
 "nbformat": 4,
 "nbformat_minor": 2
}
